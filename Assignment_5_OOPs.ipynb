{
 "cells": [
  {
   "cell_type": "code",
   "execution_count": 1,
   "id": "f695b60f",
   "metadata": {},
   "outputs": [
    {
     "name": "stdout",
     "output_type": "stream",
     "text": [
      "x:10\n",
      "n:2\n",
      "pow(x,n) =  100\n"
     ]
    }
   ],
   "source": [
    "class power:\n",
    "    \n",
    "    def __init__(self):\n",
    "        self.pow()\n",
    "        \n",
    "    def pow(self):\n",
    "        x = int(input(\"x:\"))\n",
    "        n= int(input(\"n:\"))\n",
    "        print(\"pow(x,n) = \",x**n)\n",
    "\n",
    "obj = power()"
   ]
  },
  {
   "cell_type": "code",
   "execution_count": null,
   "id": "a2f746a6",
   "metadata": {},
   "outputs": [],
   "source": []
  }
 ],
 "metadata": {
  "kernelspec": {
   "display_name": "Python 3 (ipykernel)",
   "language": "python",
   "name": "python3"
  },
  "language_info": {
   "codemirror_mode": {
    "name": "ipython",
    "version": 3
   },
   "file_extension": ".py",
   "mimetype": "text/x-python",
   "name": "python",
   "nbconvert_exporter": "python",
   "pygments_lexer": "ipython3",
   "version": "3.10.1"
  }
 },
 "nbformat": 4,
 "nbformat_minor": 5
}
